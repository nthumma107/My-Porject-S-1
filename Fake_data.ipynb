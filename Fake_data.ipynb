{
 "cells": [
  {
   "cell_type": "code",
   "execution_count": 1,
   "metadata": {},
   "outputs": [],
   "source": [
    "def get_fake_data(a,b):#a is name of your csv file eg: \"output.csv\", b is a integer value to print the number od rows\n",
    "    import pandas as pd\n",
    "    from faker import Faker\n",
    "    import numpy as np\n",
    "    import csv\n",
    "    import random\n",
    "\n",
    "\n",
    "    fake = Faker()\n",
    "    df = pd.DataFrame(columns=['Name','Email','Country','Phone','Home_Address','Year_of_Birth','No_of_Kids','Housing_Type','Annual_Income($)','Speeding_tickets_In_Past_year'])\n",
    "    for i in range(b): \n",
    "        df.loc[i, ['Name']] = fake.name()\n",
    "        df.loc[i,['Email']] = fake.email()\n",
    "        df.loc[i,['Country']] = fake.country()\n",
    "        df.loc[i,['Phone']] = fake.country()\n",
    "        df.loc[i,['Home_Address']] = fake.country()\n",
    "        df.loc[i,['Year_of_Birth']] = random.randint(1990,1999)\n",
    "        df.loc[i,['No_of_Kids']] = random.randint(0,4)\n",
    "        df.loc[i,['Housing_Type']] = 'Rent' if random.randint(0,1) == 0 else 'Own'\n",
    "        df.loc[i,['Annual_Income($)']] = np.random.randint(72000, 150000, 1) #low = 72000, high = 150000, size = 1\n",
    "        df.loc[i,['Speeding_tickets_In_Past_year']] = np.random.randint(10, 15, 1)\n",
    "        \n",
    "\n",
    "\n",
    "       \n",
    "    df.to_csv (a, index = False, header=True)    \n",
    "\n",
    "    return\n"
   ]
  },
  {
   "cell_type": "code",
   "execution_count": 2,
   "metadata": {},
   "outputs": [],
   "source": [
    "get_fake_data(\"bnewcsv.csv\",10)"
   ]
  },
  {
   "cell_type": "code",
   "execution_count": null,
   "metadata": {},
   "outputs": [],
   "source": []
  }
 ],
 "metadata": {
  "kernelspec": {
   "display_name": "Python 3",
   "language": "python",
   "name": "python3"
  },
  "language_info": {
   "codemirror_mode": {
    "name": "ipython",
    "version": 3
   },
   "file_extension": ".py",
   "mimetype": "text/x-python",
   "name": "python",
   "nbconvert_exporter": "python",
   "pygments_lexer": "ipython3",
   "version": "3.8.5"
  }
 },
 "nbformat": 4,
 "nbformat_minor": 4
}
